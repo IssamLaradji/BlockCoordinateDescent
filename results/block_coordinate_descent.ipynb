{
 "cells": [
  {
   "cell_type": "code",
   "execution_count": 4,
   "metadata": {},
   "outputs": [
    {
     "name": "stderr",
     "output_type": "stream",
     "text": [
      "100%|██████████| 109/109 [00:00<00:00, 2014.64it/s]\n"
     ]
    },
    {
     "data": {
      "application/vnd.jupyter.widget-view+json": {
       "model_id": "3da513374a074872a93de61fefc9196a",
       "version_major": 2,
       "version_minor": 0
      },
      "text/plain": [
       "VBox(children=(Label(value='Select exp_group', layout=Layout(width='200px')), HBox(children=(Dropdown(layout=L…"
      ]
     },
     "metadata": {},
     "output_type": "display_data"
    },
    {
     "data": {
      "application/javascript": [
       "\n",
       "        require.config({\n",
       "            paths: {\n",
       "                DT: '//cdn.datatables.net/1.10.19/js/jquery.dataTables.min',\n",
       "            }\n",
       "        });\n",
       "        $('head').append('<link rel=\"stylesheet\" type=\"text/css\" href=\"//cdn.datatables.net/1.10.19/css/jquery.dataTables.min.css\">');\n",
       "    "
      ],
      "text/plain": [
       "<IPython.core.display.Javascript object>"
      ]
     },
     "metadata": {},
     "output_type": "display_data"
    },
    {
     "data": {
      "application/vnd.jupyter.widget-view+json": {
       "model_id": "3fa1f81ca06846e1a4a82e907fa456e3",
       "version_major": 2,
       "version_minor": 0
      },
      "text/plain": [
       "Output()"
      ]
     },
     "metadata": {},
     "output_type": "display_data"
    },
    {
     "data": {
      "text/html": [
       "<style>.container { width:100% !important; }</style>"
      ],
      "text/plain": [
       "<IPython.core.display.HTML object>"
      ]
     },
     "metadata": {},
     "output_type": "display_data"
    },
    {
     "data": {
      "text/html": [
       "\n",
       "        <style>\n",
       "            .output_scroll {\n",
       "                height: unset !important;\n",
       "                border-radius: unset !important;\n",
       "                -webkit-box-shadow: unset !important;\n",
       "                box-shadow: unset !important;\n",
       "            }\n",
       "        </style>\n",
       "        "
      ],
      "text/plain": [
       "<IPython.core.display.HTML object>"
      ]
     },
     "metadata": {},
     "output_type": "display_data"
    }
   ],
   "source": [
    "# import sys, os\n",
    "import sys\n",
    "sys.path.insert(0, '/home/issam/Research_Ground/BlockCoordinateDescent')\n",
    "\n",
    "\n",
    "from haven import haven_jupyter as hj\n",
    "from haven import haven_results as hr\n",
    "\n",
    "# path to where the experiments got saved\n",
    "# savedir_base = \"/mnt/clients/covid19/borgy\"\n",
    "savedir_base = \"/mnt/datasets/public/issam/prototypes/bcd/debug\"\n",
    "# savedir_base = \"/mnt/clients/covid19/release\"\n",
    "# savedir_base = \"/mnt/datasets/public/issam/prototypes/alcf/debug\"\n",
    "\n",
    "\n",
    "\n",
    "\n",
    "rm = hr.ResultManager(exp_list=None, \n",
    "                      savedir_base=savedir_base, \n",
    "                      verbose=0,\n",
    "                      has_score_list=0,\n",
    "                      filterby_list=None,\n",
    "                       exp_groups='/home/issam/Research_Ground/BlockCoordinateDescent/exp_configs.py',\n",
    "#                       mode_key='test_mode'\n",
    "                     )\n",
    "\n",
    "# dashboard variables\n",
    "# legend_list = ['active_learning.n_regions', 'optimizer', 'active_learning.name']\n",
    "# groupby_list = ['optimizer']\n",
    "# title_list = ['dataset', 'dataset_size', 'max_epoch']\n",
    "# groupby_list = ['dataset', 'dataset_size']\n",
    "# legend_list = ['model.name', 'optimizer', 'active_learning.name', 'active_learning.labeling_mode', 'active_learning.n_regions','active_learning.n_mcmc', \n",
    "#                'active_learning.n_regions']_wez\n",
    "legend_list = ['model.base', 'model.loss',  'lr', 'dataset.transform_mode']\n",
    "title_list = ['dataset.name', 'dataset_size.train']\n",
    "# val_dict['dice'] = np.mean(list(self.dice_dict.values())) / self.n_samples\n",
    "#             val_dict['jaccard'] = np.mean(list(self.jaccard_dict.values())) / self.n_samples\n",
    "#             # val_dict['hausdorff_score_dict'] = np.mean(self.hausdorff_score_dict.values()) / self.n_samples\n",
    "#             val_dict['precision'] = np.mean(list(self.precision_score_dict.values())) / self.n_samples\n",
    "#             val_dict['recall'] = np.mean(list(self.recall_score_dict.values())) / self.n_samples\n",
    "#             val_dict['specificity'] = np.mean(list(self.specificity_score.values())) / self.n_samples\n",
    "#             val_dict['accuracy']\n",
    "y_metrics  = []\n",
    "y_metrics = ['loss']\n",
    "log_metric_list = ['train_loss']\n",
    "x_metric = 'iterations'\n",
    "\n",
    "# launch dashboard\n",
    "exp_group = '1_upper_bound_issam'\n",
    "# exp_group = '2_random_vs_entropy_old'\n",
    "# exp_group = '3_weakly_rect'\n",
    "exp_group = 'fig4'\n",
    "figsize = (30, 8)\n",
    "\n",
    "# filter\n",
    "groupby_list = ['dataset', 'dataset_size']\n",
    "# groupby_list = None\n",
    "groupby_list = ['model']\n",
    "filterby_list = ( 'model.loss', 'dice')\n",
    "legend_format = '{}-{}-{}-trans:{}'\n",
    "filterby_list = ('active_learning.name', 'entropy')\n",
    "filterby_list=None\n",
    "hj.get_dashboard(rm, vars(), wide_display=True)\n"
   ]
  }
 ],
 "metadata": {
  "kernelspec": {
   "display_name": "Python 3.7.6 64-bit ('isps': conda)",
   "language": "python",
   "name": "python37664bitispscondaa0185bcbda5b4466a68171643fa94405"
  },
  "language_info": {
   "codemirror_mode": {
    "name": "ipython",
    "version": 3
   },
   "file_extension": ".py",
   "mimetype": "text/x-python",
   "name": "python",
   "nbconvert_exporter": "python",
   "pygments_lexer": "ipython3",
   "version": "3.7.6"
  }
 },
 "nbformat": 4,
 "nbformat_minor": 4
}
